{
 "cells": [
  {
   "cell_type": "code",
   "execution_count": null,
   "id": "55b02e61-a0d1-42c0-9d92-35b5c84c8daf",
   "metadata": {},
   "outputs": [],
   "source": [
    "# TP Final de AA\n",
    "\n",
    "## Bibliotecas do código"
   ]
  },
  {
   "cell_type": "code",
   "execution_count": null,
   "id": "b44a513e-b04f-4944-a36a-456bba6bde68",
   "metadata": {},
   "outputs": [],
   "source": [
    "# Tp"
   ]
  },
  {
   "cell_type": "code",
   "execution_count": null,
   "id": "0354731c-560a-4964-accd-d0c2be18e08a",
   "metadata": {},
   "outputs": [],
   "source": [
    "# TP Final de AA\n",
    "\n",
    "## Bibliotecas do código"
   ]
  }
 ],
 "metadata": {
  "kernelspec": {
   "display_name": "Python 3 (ipykernel)",
   "language": "python",
   "name": "python3"
  },
  "language_info": {
   "codemirror_mode": {
    "name": "ipython",
    "version": 3
   },
   "file_extension": ".py",
   "mimetype": "text/x-python",
   "name": "python",
   "nbconvert_exporter": "python",
   "pygments_lexer": "ipython3",
   "version": "3.12.0"
  }
 },
 "nbformat": 4,
 "nbformat_minor": 5
}
